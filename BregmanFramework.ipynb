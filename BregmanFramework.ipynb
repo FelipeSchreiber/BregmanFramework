{
 "cells": [
  {
   "cell_type": "code",
   "execution_count": 1,
   "id": "9ff28023",
   "metadata": {},
   "outputs": [],
   "source": [
    "from SBM_attributed import *\n",
    "from divergences import *\n",
    "import numpy as np\n",
    "import networkx as nx\n",
    "from scipy.optimize import minimize,LinearConstraint\n",
    "from sklearn.metrics import rand_score, calinski_harabasz_score, mutual_info_score, accuracy_score"
   ]
  },
  {
   "cell_type": "code",
   "execution_count": 2,
   "id": "171011dd",
   "metadata": {},
   "outputs": [],
   "source": [
    "P = np.array([[0.8, 0.2, 0.3],[0.2, 0.7, 0.4],[0.3, 0.4, 0.6]])\n",
    "c = 3\n",
    "n = 100\n",
    "N = c*n\n",
    "delta = 1\n",
    "d = 2\n",
    "dim = c*d\n",
    "_,A,X = generate_benchmark(P,c,delta=delta,n=n,dim=d,sample_along_direction=True)\n",
    "B = np.eye(c)\n",
    "W = np.zeros(N*c).reshape((N,c))\n",
    "indexes = np.random.randint(0,c,size=N)\n",
    "for index,col in enumerate(indexes):\n",
    "    W[index,col] = 1\n",
    "mu = np.random.normal(size=(c,dim))"
   ]
  },
  {
   "cell_type": "code",
   "execution_count": 3,
   "id": "bbff57da",
   "metadata": {},
   "outputs": [],
   "source": [
    "phi_net = get_phi(\"euclidean\",elementwise=True)\n",
    "phi_data = get_phi(\"euclidean\")"
   ]
  },
  {
   "cell_type": "code",
   "execution_count": 4,
   "id": "37e5b09c",
   "metadata": {},
   "outputs": [],
   "source": [
    "### Generate benchmark\n",
    "P = np.array([[0.8, 0.2, 0.3],[0.2, 0.7, 0.4],[0.3, 0.4, 0.6]])\n",
    "c = 3\n",
    "n = 100\n",
    "N = c*n\n",
    "delta = 10\n",
    "d = 2\n",
    "dim = c*d\n",
    "_,A,X = generate_benchmark(P,c,delta=delta,n=n,dim=d,sample_along_direction=True)"
   ]
  },
  {
   "cell_type": "code",
   "execution_count": 5,
   "id": "dd77beaf",
   "metadata": {},
   "outputs": [],
   "source": [
    "### initialize variables\n",
    "B = np.eye(c)\n",
    "W = np.zeros(N*c).reshape((N,c))\n",
    "indexes = np.random.randint(0,c,size=N)\n",
    "for index,col in enumerate(indexes):\n",
    "    W[index,col] = 1\n",
    "mu = np.random.normal(size=(c,dim))"
   ]
  },
  {
   "cell_type": "code",
   "execution_count": 6,
   "id": "98a91994",
   "metadata": {},
   "outputs": [],
   "source": [
    "def make_divergence_matrix(phi_net,phi_data,A,X,W,B,mu):\n",
    "    net_divergence = np.sum(pairwise_net_bregman(A,W@B@W.T,phi_net), axis=1)\n",
    "    data_divergence = np.sum(np.multiply(W, pairwise_data_bregman(X, mu, phi_data)),axis=1)\n",
    "    return np.stack((net_divergence,data_divergence),axis=-1)"
   ]
  },
  {
   "cell_type": "code",
   "execution_count": 7,
   "id": "92776ef6",
   "metadata": {},
   "outputs": [],
   "source": [
    "model_args = {}\n",
    "model_args[\"_c\"] = c\n",
    "model_args[\"_N\"] = N\n",
    "model_args[\"_dim\"] = dim\n",
    "model_args[\"_phi_net\"] = phi_net\n",
    "model_args[\"_phi_data\"] = phi_data\n",
    "model_args[\"_norm\"] = -1\n",
    "model_args[\"_A\"] = A\n",
    "model_args[\"_X\"] = X\n",
    "def obj_func(params,model_args,other_args=None):\n",
    "    c = model_args[\"_c\"]\n",
    "    N = model_args[\"_N\"]\n",
    "    dim = model_args[\"_dim\"]\n",
    "    phi_net = model_args[\"_phi_net\"]\n",
    "    phi_data = model_args[\"_phi_data\"]\n",
    "    norm = model_args[\"_norm\"]\n",
    "    A = model_args[\"_A\"]\n",
    "    X = model_args[\"_X\"]\n",
    "    W = params[:N*c].reshape((N, c))\n",
    "    B = params[N*c:N*c+c*c].reshape((c, c))\n",
    "    mu = params[N*c+c*c:].reshape((c,dim))\n",
    "    K = make_divergence_matrix(phi_net,phi_data,A,X,W,B,mu)\n",
    "    return np.sum(np.linalg.norm(K,ord=norm,axis=1))"
   ]
  },
  {
   "cell_type": "code",
   "execution_count": 8,
   "id": "ec717c8d",
   "metadata": {},
   "outputs": [],
   "source": [
    "#sum of W matrix row wise is one \n",
    "def make_constraints(N,c,dim):\n",
    "    C = np.block([np.kron(np.eye(N,dtype=int),np.ones(c)),np.zeros((N,c*c + c*dim))]) \n",
    "    return LinearConstraint(C,np.ones(N),np.ones(N))\n",
    "def make_bounds(N,c,dim):\n",
    "    W_B_bounds = [(0,1)]*(N*c + c*c)\n",
    "    mu_bounds = [(-np.inf,np.inf)]*(c*dim)\n",
    "    return np.vstack([W_B_bounds,mu_bounds])\n",
    "bounds = make_bounds(N,c,dim)\n",
    "constraints = make_constraints(N,c,dim)"
   ]
  },
  {
   "cell_type": "code",
   "execution_count": 9,
   "id": "d7da3c23",
   "metadata": {},
   "outputs": [
    {
     "name": "stderr",
     "output_type": "stream",
     "text": [
      "\n",
      "KeyboardInterrupt\n",
      "\n"
     ]
    }
   ],
   "source": [
    "for _ in range(4):\n",
    "    x0 = np.hstack([W.flatten(),B.flatten(),mu.flatten()])\n",
    "    res = minimize(    \n",
    "                    fun=obj_func,\n",
    "                    x0=x0,\n",
    "                    args=model_args,\n",
    "                    constraints=constraints,\n",
    "                    bounds=bounds,\n",
    "                    method=\"SLSQP\",\n",
    "                    options={\"maxiter\":20}\n",
    "                  )\n",
    "    model_args[\"_norm\"] *= 2\n",
    "    W = res.x[:N*c].reshape((N, c))\n",
    "    B = res.x[N*c:N*c+c*c].reshape((c, c))\n",
    "    mu = res.x[N*c+c*c:].reshape((c,dim))\n",
    "    pred_labels = np.argmax(W,axis=1)\n",
    "    true_labels = [0]*n + [1]*n + [2]*n\n",
    "    print(rand_score(true_labels, pred_labels),mutual_info_score(true_labels, pred_labels))"
   ]
  }
 ],
 "metadata": {
  "kernelspec": {
   "display_name": "Python 3 (ipykernel)",
   "language": "python",
   "name": "python3"
  },
  "language_info": {
   "codemirror_mode": {
    "name": "ipython",
    "version": 3
   },
   "file_extension": ".py",
   "mimetype": "text/x-python",
   "name": "python",
   "nbconvert_exporter": "python",
   "pygments_lexer": "ipython3",
   "version": "3.9.12"
  }
 },
 "nbformat": 4,
 "nbformat_minor": 5
}
