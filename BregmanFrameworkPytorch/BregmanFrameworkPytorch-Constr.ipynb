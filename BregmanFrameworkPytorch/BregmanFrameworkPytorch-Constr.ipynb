{
 "cells": [
  {
   "cell_type": "code",
   "execution_count": null,
   "id": "9ff28023",
   "metadata": {},
   "outputs": [],
   "source": [
    "from SBM_attributed import *\n",
    "import torch\n",
    "import networkx as nx\n",
    "from divergences import * \n",
    "from copy import deepcopy\n",
    "from torchmin import minimize_constr\n",
    "from sklearn.metrics import rand_score, calinski_harabasz_score, mutual_info_score, accuracy_score"
   ]
  },
  {
   "cell_type": "code",
   "execution_count": null,
   "id": "d27c5393",
   "metadata": {},
   "outputs": [],
   "source": [
    "# !pip install pytorch-minimize"
   ]
  },
  {
   "cell_type": "code",
   "execution_count": null,
   "id": "37e5b09c",
   "metadata": {},
   "outputs": [],
   "source": [
    "### Generate benchmark\n",
    "P = np.array([[0.8, 0.2, 0.3],[0.2, 0.7, 0.4],[0.3, 0.4, 0.6]])\n",
    "c = 3\n",
    "n = 100\n",
    "N = c*n\n",
    "delta = 10\n",
    "d = 2\n",
    "dim = c*d\n",
    "_,A,X = generate_benchmark(P,c,delta=delta,n=n,dim=d,sample_along_direction=True)\n",
    "A = torch.tensor(A,dtype=torch.float32)\n",
    "X = torch.tensor(X,dtype=torch.float32)\n",
    "norm = -1"
   ]
  },
  {
   "cell_type": "code",
   "execution_count": null,
   "id": "dd77beaf",
   "metadata": {},
   "outputs": [],
   "source": [
    "### initialize variables\n",
    "W = torch.zeros((N,c),dtype=torch.float)\n",
    "indexes = torch.randint(low=0,high=c,size=(N,))\n",
    "with torch.no_grad():\n",
    "    for index,col in enumerate(indexes):\n",
    "        W[index].index_fill_(0, col, 1)\n",
    "WW_inv = torch.inverse(W.T@W)\n",
    "B = WW_inv@W.T@A@W@WW_inv\n",
    "mu = WW_inv@W.T@X\n",
    "x_0 = torch.zeros(N*c + c*c + c*dim,requires_grad=False)\n",
    "with torch.no_grad():\n",
    "    x_0[:] = torch.hstack([W.flatten(),B.flatten(),mu.flatten()])"
   ]
  },
  {
   "cell_type": "code",
   "execution_count": null,
   "id": "5e2d1389",
   "metadata": {},
   "outputs": [],
   "source": [
    "x_0.requires_grad"
   ]
  },
  {
   "cell_type": "code",
   "execution_count": null,
   "id": "9ff1f824",
   "metadata": {},
   "outputs": [],
   "source": [
    "phi_net = get_phi(\"euclidean\",elementwise=True)[0]\n",
    "phi_data = get_phi(\"euclidean\")"
   ]
  },
  {
   "cell_type": "code",
   "execution_count": null,
   "id": "c578bc04",
   "metadata": {},
   "outputs": [],
   "source": [
    "def obj_func(x):\n",
    "    W = x[:N*c].view(N, c)\n",
    "    B = x[N*c:N*c+c*c].view(c, c)\n",
    "    mu = x[N*c+c*c:].view(c,dim)\n",
    "    net_divergence = torch.sum(phi_net(A,W@B@W.T), axis=1)\n",
    "    data_divergence = torch.sum(torch.multiply(W, pairwise_bregman(X, mu, phi_data)),axis=1)\n",
    "    K = torch.stack((net_divergence,data_divergence),axis=-1)\n",
    "    return torch.sum(torch.pow(torch.sum(torch.pow(K, norm), axis=1),1/norm))\n",
    "    #     return torch.linalg.matrix_norm(K,ord=-np.inf,keepdim=False)"
   ]
  },
  {
   "cell_type": "code",
   "execution_count": null,
   "id": "ef2c3aad",
   "metadata": {},
   "outputs": [],
   "source": [
    "#sum of W matrix row wise is one \n",
    "def make_constraints(N,c,dim):\n",
    "    C = torch.cat([torch.kron(torch.eye(N),torch.ones(c)),torch.zeros((N,c*c + c*dim))],axis=1)\n",
    "    constr = dict(\n",
    "        fun = lambda x: torch.norm(C@x - torch.ones(N),1), \n",
    "        lb=0, ub=0\n",
    "    )\n",
    "    return constr\n",
    "\n",
    "def make_bounds(N,c,dim):\n",
    "    W_B_bounds = [(0,1)]*(N*c + c*c)\n",
    "    mu_bounds = [(-np.inf,np.inf)]*(c*dim)\n",
    "    bounds = np.vstack([W_B_bounds,mu_bounds])\n",
    "    bounds_dict = dict(lb=bounds[:,0],ub=bounds[:,1])\n",
    "    return bounds_dict\n",
    "bounds = make_bounds(N,c,dim)\n",
    "constraints = make_constraints(N,c,dim)"
   ]
  },
  {
   "cell_type": "code",
   "execution_count": null,
   "id": "18752231",
   "metadata": {},
   "outputs": [],
   "source": [
    "obj_func(x_0)"
   ]
  },
  {
   "cell_type": "code",
   "execution_count": null,
   "id": "4bf1915b",
   "metadata": {},
   "outputs": [],
   "source": [
    "obj_func(x_0).requires_grad"
   ]
  },
  {
   "cell_type": "code",
   "execution_count": null,
   "id": "ac9d172f",
   "metadata": {},
   "outputs": [],
   "source": [
    "res = minimize_constr(\n",
    "    obj_func, x_0, \n",
    "    max_iter=15000,\n",
    "    constr=constraints,\n",
    "    bounds=bounds\n",
    ")"
   ]
  },
  {
   "cell_type": "code",
   "execution_count": null,
   "id": "e633d64c",
   "metadata": {},
   "outputs": [],
   "source": [
    "bounds['ub'][N*c:N*c+c*c]"
   ]
  },
  {
   "cell_type": "code",
   "execution_count": null,
   "id": "58aeb35a",
   "metadata": {},
   "outputs": [],
   "source": [
    "W = res.x[:N*c].reshape((N, c)).detach().numpy()\n",
    "B = res.x[N*c:N*c+c*c].reshape((c, c)).detach().numpy()\n",
    "mu = res.x[N*c+c*c:].reshape((c, dim)).detach().numpy()"
   ]
  },
  {
   "cell_type": "code",
   "execution_count": null,
   "id": "5d850818",
   "metadata": {},
   "outputs": [],
   "source": [
    "print(B,mu)"
   ]
  },
  {
   "cell_type": "code",
   "execution_count": null,
   "id": "5f80c25a",
   "metadata": {},
   "outputs": [],
   "source": [
    "WW_inv = np.linalg.inv(W.T@W)\n",
    "B = WW_inv@W.T@A.detach().numpy()@W@WW_inv\n",
    "mu = WW_inv@W.T@X.detach().numpy()"
   ]
  },
  {
   "cell_type": "code",
   "execution_count": null,
   "id": "515be2ff",
   "metadata": {
    "scrolled": false
   },
   "outputs": [],
   "source": [
    "pred_labels = np.argmax(W, axis=1)\n",
    "true_labels = [0]*n + [1]*n + [2]*n\n",
    "print(rand_score(true_labels, pred_labels),mutual_info_score(true_labels, pred_labels))"
   ]
  },
  {
   "cell_type": "code",
   "execution_count": null,
   "id": "1ff3db0f",
   "metadata": {},
   "outputs": [],
   "source": [
    "print(B,mu,P)"
   ]
  }
 ],
 "metadata": {
  "kernelspec": {
   "display_name": "Python 3 (ipykernel)",
   "language": "python",
   "name": "python3"
  },
  "language_info": {
   "codemirror_mode": {
    "name": "ipython",
    "version": 3
   },
   "file_extension": ".py",
   "mimetype": "text/x-python",
   "name": "python",
   "nbconvert_exporter": "python",
   "pygments_lexer": "ipython3",
   "version": "3.9.12"
  }
 },
 "nbformat": 4,
 "nbformat_minor": 5
}
