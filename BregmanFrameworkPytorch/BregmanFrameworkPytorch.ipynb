{
 "cells": [
  {
   "cell_type": "code",
   "execution_count": 1,
   "id": "9ff28023",
   "metadata": {},
   "outputs": [],
   "source": [
    "from SBM_attributed import *\n",
    "import torch\n",
    "import networkx as nx\n",
    "from divergences import * \n",
    "from sklearn.metrics import rand_score, calinski_harabasz_score, mutual_info_score, accuracy_score"
   ]
  },
  {
   "cell_type": "code",
   "execution_count": 2,
   "id": "37e5b09c",
   "metadata": {},
   "outputs": [],
   "source": [
    "### Generate benchmark\n",
    "P = np.array([[0.8, 0.2, 0.3],[0.2, 0.7, 0.4],[0.3, 0.4, 0.6]])\n",
    "c = 3\n",
    "n = 100\n",
    "N = c*n\n",
    "delta = 10\n",
    "d = 2\n",
    "dim = c*d\n",
    "_,A,X = generate_benchmark(P,c,delta=delta,n=n,dim=d,sample_along_direction=True)\n",
    "A = torch.tensor(A)\n",
    "X = torch.tensor(X)"
   ]
  },
  {
   "cell_type": "code",
   "execution_count": 3,
   "id": "dd77beaf",
   "metadata": {},
   "outputs": [],
   "source": [
    "### initialize variables\n",
    "B = torch.eye(c,dtype=torch.float, requires_grad=True)\n",
    "W = torch.zeros((N,c),dtype=torch.float, requires_grad=True)\n",
    "indexes = torch.randint(low=0,high=c,size=(N,))\n",
    "with torch.no_grad():\n",
    "    for index,col in enumerate(indexes):\n",
    "        W[index].index_fill_(0, col, 1)\n",
    "mu = torch.tensor(np.random.normal(size=(c,dim)), requires_grad=True)"
   ]
  },
  {
   "cell_type": "code",
   "execution_count": 4,
   "id": "9ff1f824",
   "metadata": {},
   "outputs": [],
   "source": [
    "phi_net = get_phi(\"euclidean\",elementwise=True)[0]\n",
    "phi_data = get_phi(\"euclidean\")"
   ]
  },
  {
   "cell_type": "code",
   "execution_count": 5,
   "id": "c578bc04",
   "metadata": {},
   "outputs": [],
   "source": [
    "def obj_func(W,B,mu,norm):\n",
    "    net_divergence = torch.sum(phi_net(A,W@B@W.T), axis=1)\n",
    "    data_divergence = torch.sum(torch.multiply(W, pairwise_bregman(X, mu, phi_data)),axis=1)\n",
    "    K = torch.stack((net_divergence,data_divergence),axis=-1)\n",
    "    return torch.linalg.matrix_norm(K,ord=-1,keepdim=False)"
   ]
  },
  {
   "cell_type": "code",
   "execution_count": 6,
   "id": "605cfdd5",
   "metadata": {},
   "outputs": [
    {
     "name": "stdout",
     "output_type": "stream",
     "text": [
      "point assignments have converged\n"
     ]
    }
   ],
   "source": [
    "norm = -1\n",
    "classes_old = classes = None\n",
    "convergence_cnt = 0\n",
    "convergence_threshold = 64\n",
    "iter = 0\n",
    "while True:\n",
    "    iter += 1\n",
    "    loss = obj_func(W,B,mu,norm)\n",
    "    loss.backward()\n",
    "    with torch.no_grad():\n",
    "        W -= W.grad \n",
    "        B -= B.grad \n",
    "        mu -= mu.grad \n",
    "        # Set the gradients to zero\n",
    "        W.grad.zero_()\n",
    "        B.grad.zero_()\n",
    "        mu.grad.zero_()\n",
    "#         W -= W.min()\n",
    "#         W /= W.max()\n",
    "#         B -= B.min()\n",
    "#         B /= B.max()\n",
    "        #anneal s value\n",
    "        if iter % 2 == 0:\n",
    "            if norm > -1.0:\n",
    "                norm += -.2\n",
    "            elif norm > -120.0:\n",
    "                norm *= 1.06\n",
    "        if classes is not None:\n",
    "            classes_old = classes\n",
    "        classes = torch.argmax(W, axis=1)\n",
    "        if classes_old is not None and classes is not None and torch.equal(classes_old, classes):\n",
    "            convergence_cnt += 1\n",
    "        else:\n",
    "            convergence_cnt = 0\n",
    "        if convergence_cnt == convergence_threshold:\n",
    "            print(\"point assignments have converged\")\n",
    "            break\n",
    "        #norm *= 1.001"
   ]
  },
  {
   "cell_type": "code",
   "execution_count": 7,
   "id": "515be2ff",
   "metadata": {
    "scrolled": true
   },
   "outputs": [
    {
     "name": "stdout",
     "output_type": "stream",
     "text": [
      "0.8683612040133779 0.8366210750785297\n"
     ]
    }
   ],
   "source": [
    "pred_labels = torch.argmax(W, axis=1).detach().numpy()\n",
    "true_labels = [0]*n + [1]*n + [2]*n\n",
    "print(rand_score(true_labels, pred_labels),mutual_info_score(true_labels, pred_labels))"
   ]
  }
 ],
 "metadata": {
  "kernelspec": {
   "display_name": "Python 3 (ipykernel)",
   "language": "python",
   "name": "python3"
  },
  "language_info": {
   "codemirror_mode": {
    "name": "ipython",
    "version": 3
   },
   "file_extension": ".py",
   "mimetype": "text/x-python",
   "name": "python",
   "nbconvert_exporter": "python",
   "pygments_lexer": "ipython3",
   "version": "3.9.12"
  }
 },
 "nbformat": 4,
 "nbformat_minor": 5
}
