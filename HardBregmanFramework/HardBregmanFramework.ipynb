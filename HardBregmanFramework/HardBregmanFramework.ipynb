{
 "cells": [
  {
   "cell_type": "code",
   "execution_count": 1,
   "id": "9ff28023",
   "metadata": {},
   "outputs": [],
   "source": [
    "from SBM_attributed import *\n",
    "import torch\n",
    "import networkx as nx\n",
    "from divergences import * \n",
    "from copy import deepcopy\n",
    "from sklearn.metrics import rand_score, calinski_harabasz_score, mutual_info_score, accuracy_score"
   ]
  },
  {
   "cell_type": "code",
   "execution_count": 2,
   "id": "37e5b09c",
   "metadata": {},
   "outputs": [],
   "source": [
    "### Generate benchmark\n",
    "P = np.array([[0.8, 0.2, 0.3],[0.2, 0.7, 0.4],[0.3, 0.4, 0.6]])\n",
    "c = 3\n",
    "n = 100\n",
    "N = c*n\n",
    "delta = 10\n",
    "d = 2\n",
    "dim = c*d\n",
    "_,A,X = generate_benchmark(P,c,delta=delta,n=n,dim=d,sample_along_direction=True)\n",
    "A = torch.tensor(A,dtype=torch.float32)\n",
    "X = torch.tensor(X,dtype=torch.float32)"
   ]
  },
  {
   "cell_type": "code",
   "execution_count": 3,
   "id": "dd77beaf",
   "metadata": {},
   "outputs": [],
   "source": [
    "### initialize variables\n",
    "W = torch.zeros((N,c),dtype=torch.float)\n",
    "indexes = torch.randint(low=0,high=c,size=(N,))\n",
    "with torch.no_grad():\n",
    "    for index,col in enumerate(indexes):\n",
    "        W[index].index_fill_(0, col, 1)\n",
    "WW_inv = torch.inverse(W.T@W)\n",
    "B = WW_inv@W.T@A@W@WW_inv\n",
    "mu = WW_inv@W.T@X"
   ]
  },
  {
   "cell_type": "code",
   "execution_count": 4,
   "id": "9ff1f824",
   "metadata": {},
   "outputs": [],
   "source": [
    "phi_net = get_phi(\"euclidean\",elementwise=True)[0]\n",
    "phi_data = get_phi(\"euclidean\")"
   ]
  },
  {
   "cell_type": "code",
   "execution_count": 5,
   "id": "c578bc04",
   "metadata": {},
   "outputs": [],
   "source": [
    "def obj_func(W,B,mu):\n",
    "    net_divergence = torch.sum(phi_net(A,W@B@W.T), axis=1)\n",
    "    data_divergence = torch.sum(torch.multiply(W, pairwise_bregman(X, mu, phi_data)),axis=1)\n",
    "    K = torch.stack((net_divergence,data_divergence),axis=-1)\n",
    "    return K.sum()\n",
    "#     return torch.linalg.matrix_norm(K,ord=-np.inf,keepdim=False)"
   ]
  },
  {
   "cell_type": "code",
   "execution_count": 6,
   "id": "311c32b9",
   "metadata": {},
   "outputs": [
    {
     "name": "stdout",
     "output_type": "stream",
     "text": [
      "point assignments have converged\n"
     ]
    }
   ],
   "source": [
    "classes_old = classes = None\n",
    "convergence_cnt = 0\n",
    "convergence_threshold = 5\n",
    "iter = 0\n",
    "failed_to_converge = False\n",
    "while True:\n",
    "        iter += 1\n",
    "        for i in range(N):\n",
    "            W[i,:] = 0\n",
    "            min_ = torch.tensor(np.inf)\n",
    "            min_index = torch.tensor(0)\n",
    "            for j in torch.arange(c):\n",
    "                W[i].index_fill_(0,j,1)\n",
    "                val = obj_func(W,B,mu)\n",
    "                if val < min_:\n",
    "                    min_index = j\n",
    "                    min_ = val\n",
    "                W[i,:] = 0\n",
    "            W[i].index_fill_(0,min_index,1)\n",
    "        WW_inv = torch.inverse(W.T@W)\n",
    "        B = WW_inv@W.T@A@W@WW_inv\n",
    "        mu = WW_inv@W.T@X\n",
    "        #update values\n",
    "        if classes is not None:\n",
    "            classes_old = classes\n",
    "        classes = torch.argmax(W, axis=1)\n",
    "        #Check convergence\n",
    "        if classes_old is not None and classes is not None and torch.equal(classes_old, classes):\n",
    "            convergence_cnt += 1\n",
    "        else:\n",
    "            convergence_cnt = 0\n",
    "        if convergence_cnt == convergence_threshold:\n",
    "            print(\"point assignments have converged\")\n",
    "            break"
   ]
  },
  {
   "cell_type": "code",
   "execution_count": 7,
   "id": "515be2ff",
   "metadata": {
    "scrolled": false
   },
   "outputs": [
    {
     "name": "stdout",
     "output_type": "stream",
     "text": [
      "1.0 1.0986122886681091\n"
     ]
    }
   ],
   "source": [
    "pred_labels = torch.argmax(W, axis=1).detach().numpy()\n",
    "true_labels = [0]*n + [1]*n + [2]*n\n",
    "print(rand_score(true_labels, pred_labels),mutual_info_score(true_labels, pred_labels))"
   ]
  },
  {
   "cell_type": "code",
   "execution_count": 8,
   "id": "1ff3db0f",
   "metadata": {},
   "outputs": [
    {
     "data": {
      "text/plain": [
       "tensor([[0.7956, 0.2024, 0.2988],\n",
       "        [0.2024, 0.6900, 0.4037],\n",
       "        [0.2988, 0.4037, 0.6002]])"
      ]
     },
     "execution_count": 8,
     "metadata": {},
     "output_type": "execute_result"
    }
   ],
   "source": [
    "B"
   ]
  },
  {
   "cell_type": "code",
   "execution_count": 9,
   "id": "0e94819a",
   "metadata": {},
   "outputs": [
    {
     "data": {
      "text/plain": [
       "array([[0.8, 0.2, 0.3],\n",
       "       [0.2, 0.7, 0.4],\n",
       "       [0.3, 0.4, 0.6]])"
      ]
     },
     "execution_count": 9,
     "metadata": {},
     "output_type": "execute_result"
    }
   ],
   "source": [
    "P"
   ]
  },
  {
   "cell_type": "code",
   "execution_count": 10,
   "id": "046c8565",
   "metadata": {},
   "outputs": [
    {
     "data": {
      "text/plain": [
       "tensor([[-1.3504, -1.5721,  5.5747, -5.4138, -6.8401,  0.3553],\n",
       "        [ 5.7807, -5.3352,  2.0913, -2.0637, -5.9000,  0.2521],\n",
       "        [-7.0645,  0.4563, -5.9715,  0.2040, -3.9599,  0.2682]])"
      ]
     },
     "execution_count": 10,
     "metadata": {},
     "output_type": "execute_result"
    }
   ],
   "source": [
    "mu"
   ]
  },
  {
   "cell_type": "code",
   "execution_count": 11,
   "id": "3394e778",
   "metadata": {},
   "outputs": [
    {
     "data": {
      "text/plain": [
       "7"
      ]
     },
     "execution_count": 11,
     "metadata": {},
     "output_type": "execute_result"
    }
   ],
   "source": [
    "iter"
   ]
  }
 ],
 "metadata": {
  "kernelspec": {
   "display_name": "Python 3 (ipykernel)",
   "language": "python",
   "name": "python3"
  },
  "language_info": {
   "codemirror_mode": {
    "name": "ipython",
    "version": 3
   },
   "file_extension": ".py",
   "mimetype": "text/x-python",
   "name": "python",
   "nbconvert_exporter": "python",
   "pygments_lexer": "ipython3",
   "version": "3.9.12"
  }
 },
 "nbformat": 4,
 "nbformat_minor": 5
}
